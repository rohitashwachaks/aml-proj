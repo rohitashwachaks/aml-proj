{
 "cells": [
  {
   "cell_type": "markdown",
   "metadata": {},
   "source": [
    "https://data.mendeley.com/datasets/3t9vbwxgr5/2/files/d2c58546-d8be-4d57-af14-b61337c927b2"
   ]
  },
  {
   "cell_type": "code",
   "execution_count": 1,
   "metadata": {},
   "outputs": [],
   "source": [
    "from IPython import display\n",
    "from IPython.display import Markdown as md\n",
    "\n",
    "\n",
    "from sklearn.feature_extraction.text import CountVectorizer, TfidfVectorizer\n",
    "\n",
    "import pandas as pd\n",
    "import numpy as np\n",
    "\n",
    "import matplotlib.pyplot as plt\n",
    "%matplotlib inline"
   ]
  },
  {
   "cell_type": "markdown",
   "metadata": {},
   "source": [
    "# Read data"
   ]
  },
  {
   "cell_type": "code",
   "execution_count": 3,
   "metadata": {},
   "outputs": [
    {
     "data": {
      "text/plain": [
       "pop        7042\n",
       "country    5445\n",
       "blues      4604\n",
       "rock       4034\n",
       "jazz       3845\n",
       "reggae     2498\n",
       "hip hop     904\n",
       "Name: genre, dtype: int64"
      ]
     },
     "execution_count": 3,
     "metadata": {},
     "output_type": "execute_result"
    }
   ],
   "source": [
    "df = pd.read_csv(\"tcc_ceds_music.csv\", index_col=0)\n",
    "df[\"genre\"].value_counts()"
   ]
  },
  {
   "cell_type": "code",
   "execution_count": 4,
   "metadata": {},
   "outputs": [
    {
     "data": {
      "text/plain": [
       "0    like sound hear ghetto music ghetto music ghet...\n",
       "1    start heart take time heart come everybody fea...\n",
       "2    number soundlive ghetto music produce krsone w...\n",
       "3    right right bring smooth alright hello whassup...\n",
       "4    blueprint musty fusty clear noncommercial brin...\n",
       "Name: lyrics, dtype: object"
      ]
     },
     "execution_count": 4,
     "metadata": {},
     "output_type": "execute_result"
    }
   ],
   "source": [
    "pop_df = df[df[\"genre\"] == \"hip hop\"][\"lyrics\"].reset_index(drop=True)\n",
    "# pop_df = df[\"lyrics\"].reset_index(drop=True)\n",
    "pop_df.head()\n"
   ]
  },
  {
   "cell_type": "markdown",
   "metadata": {},
   "source": [
    "# Creating Dictionary"
   ]
  },
  {
   "cell_type": "code",
   "execution_count": 5,
   "metadata": {},
   "outputs": [],
   "source": [
    "# from functools import reduce\n",
    "# vocab_set = set(reduce(lambda x, y: x+y, pop_df.str.split(\" \")))\n",
    "# vocab = sorted(list(vocab_set))\n",
    "# print(len(vocab), pop_df.shape[0])\n",
    "# # vocab"
   ]
  },
  {
   "cell_type": "code",
   "execution_count": 6,
   "metadata": {},
   "outputs": [
    {
     "data": {
      "text/plain": [
       "(904, 11475)"
      ]
     },
     "execution_count": 6,
     "metadata": {},
     "output_type": "execute_result"
    }
   ],
   "source": [
    "vectorizer = CountVectorizer(decode_error='ignore')\n",
    "total_features_words = vectorizer.fit_transform(pop_df)\n",
    "total_features_words.shape\n",
    "# 7042 -> Training instances\n",
    "# 21954 -> Total words\n"
   ]
  },
  {
   "cell_type": "markdown",
   "metadata": {},
   "source": [
    "Need to trim the vocab size. Filter by IDF value?"
   ]
  },
  {
   "cell_type": "code",
   "execution_count": 7,
   "metadata": {},
   "outputs": [
    {
     "name": "stdout",
     "output_type": "stream",
     "text": [
      "(904, 11451)\n",
      "1.3294253014913568 7.114787763139981\n"
     ]
    },
    {
     "name": "stderr",
     "output_type": "stream",
     "text": [
      "/Users/rchaks/opt/anaconda3/envs/aml-proj/lib/python3.9/site-packages/sklearn/utils/deprecation.py:87: FutureWarning: Function get_feature_names is deprecated; get_feature_names is deprecated in 1.0 and will be removed in 1.2. Please use get_feature_names_out instead.\n",
      "  warnings.warn(msg, category=FutureWarning)\n"
     ]
    },
    {
     "data": {
      "text/plain": [
       "12sheba       7.114788\n",
       "aaaaah        7.114788\n",
       "aaaahiight    7.114788\n",
       "aaaayo        7.114788\n",
       "aaah          7.114788\n",
       "                ...   \n",
       "zoovier       7.114788\n",
       "zoovin        7.114788\n",
       "zrymowaem     7.114788\n",
       "zulu          6.198497\n",
       "zzoe          7.114788\n",
       "Length: 11451, dtype: float64"
      ]
     },
     "execution_count": 7,
     "metadata": {},
     "output_type": "execute_result"
    }
   ],
   "source": [
    "vectorizer = TfidfVectorizer(decode_error='ignore'\n",
    "                            # ,ngram_range = (1,2)\n",
    "                            ,use_idf = True\n",
    "                            ,strip_accents = 'ascii'\n",
    "                            # ,smooth_idf = False\n",
    "                            )\n",
    "song_vectors = vectorizer.fit_transform(pop_df)\n",
    "print(song_vectors.shape)\n",
    "# 7042 -> Training instances\n",
    "# 21954 -> Total words\n",
    "print(min(vectorizer.idf_), max(vectorizer.idf_))\n",
    "idf_vocab = pd.Series(vectorizer.idf_, index= vectorizer.get_feature_names())\n",
    "idf_vocab\n"
   ]
  },
  {
   "cell_type": "code",
   "execution_count": 8,
   "metadata": {},
   "outputs": [
    {
     "data": {
      "text/plain": [
       "Text(0.5, 1.0, 'Word Distribution')"
      ]
     },
     "execution_count": 8,
     "metadata": {},
     "output_type": "execute_result"
    },
    {
     "data": {
      "image/png": "[encoded data removed]",
      "text/plain": [
       "<Figure size 1440x720 with 1 Axes>"
      ]
     },
     "metadata": {
      "needs_background": "light"
     },
     "output_type": "display_data"
    }
   ],
   "source": [
    "plt.figure(figsize = (20,10))\n",
    "plt.hist(vectorizer._tfidf.idf_)\n",
    "plt.xlabel(\"IDF Score\")\n",
    "plt.ylabel(\"Count\")\n",
    "plt.title(\"Word Distribution\", fontsize = 20)\n",
    "        "
   ]
  },
  {
   "cell_type": "code",
   "execution_count": 9,
   "metadata": {},
   "outputs": [
    {
     "name": "stdout",
     "output_type": "stream",
     "text": [
      "1262\n"
     ]
    },
    {
     "data": {
      "text/plain": [
       "act       4.917563\n",
       "actin     4.629881\n",
       "action    4.974722\n",
       "admit     5.035346\n",
       "afraid    4.917563\n",
       "dtype: float64"
      ]
     },
     "execution_count": 9,
     "metadata": {},
     "output_type": "execute_result"
    }
   ],
   "source": [
    "# Selecting top 10% most frequently occouring words\n",
    "idf_vocab = idf_vocab[idf_vocab <= idf_vocab.quantile(q = 0.10)]\n",
    "print(len(idf_vocab))\n",
    "idf_vocab.head()"
   ]
  },
  {
   "cell_type": "code",
   "execution_count": 10,
   "metadata": {},
   "outputs": [
    {
     "name": "stdout",
     "output_type": "stream",
     "text": [
      "(904, 11451)\n",
      "['act' 'actin' 'action' ... 'york' 'young' 'zone']\n",
      "[0 0 0 ... 0 0 0]\n"
     ]
    }
   ],
   "source": [
    "\n",
    "vectorizer = CountVectorizer(decode_error='ignore'\n",
    "                            # ,ngram_range = (1,2)\n",
    "                            ,strip_accents = 'ascii'\n",
    "                            # ,smooth_idf = False\n",
    "                            ,vocabulary = set(idf_vocab.index)\n",
    "                        )\n",
    "X = vectorizer.fit_transform(pop_df)\n",
    "print(song_vectors.shape)\n",
    "# 7042 -> Training instances\n",
    "# 21954 -> Total words\n",
    "vocab= vectorizer.get_feature_names_out()\n",
    "print(vocab)\n",
    "print(X.toarray()[1])"
   ]
  },
  {
   "cell_type": "markdown",
   "metadata": {},
   "source": [
    "# GAN"
   ]
  },
  {
   "cell_type": "code",
   "execution_count": 11,
   "metadata": {},
   "outputs": [],
   "source": [
    "from utils import Logger\n",
    "\n",
    "import torch\n",
    "from torch import nn, optim\n",
    "from torch.autograd.variable import Variable\n",
    "from torch.utils.data import DataLoader\n"
   ]
  },
  {
   "cell_type": "code",
   "execution_count": 12,
   "metadata": {},
   "outputs": [
    {
     "name": "stdout",
     "output_type": "stream",
     "text": [
      "torch.Size([904, 1262]) 904\n"
     ]
    },
    {
     "data": {
      "text/plain": [
       "<torch.utils.data.dataloader.DataLoader at 0x7fd212925fd0>"
      ]
     },
     "execution_count": 12,
     "metadata": {},
     "output_type": "execute_result"
    }
   ],
   "source": [
    "X = torch.tensor(X.toarray())\n",
    "print(X.shape, X.shape[0])\n",
    "vocab_size = X.shape[1]\n",
    "\n",
    "batch_size = 32\n",
    "num_batches = X.shape[0]//batch_size\n",
    "\n",
    "dataloader = DataLoader(X, batch_size= batch_size)\n",
    "dataloader"
   ]
  },
  {
   "cell_type": "markdown",
   "metadata": {},
   "source": [
    "# Discriminator Net"
   ]
  },
  {
   "cell_type": "code",
   "execution_count": 13,
   "metadata": {},
   "outputs": [],
   "source": [
    "class DiscriminatorNet(torch.nn.Module):\n",
    "    \"\"\"\n",
    "    A three hidden-layer discriminative neural network\n",
    "    \"\"\"\n",
    "    def __init__(self):\n",
    "        super(DiscriminatorNet, self).__init__()\n",
    "        n_features = vocab_size\n",
    "        n_out = 1\n",
    "        \n",
    "        self.hidden0 = nn.Sequential( \n",
    "            nn.Linear(n_features, 1024),\n",
    "            nn.LeakyReLU(0.2),\n",
    "            nn.Dropout(0.3)\n",
    "        )\n",
    "        self.hidden1 = nn.Sequential(\n",
    "            nn.Linear(1024, 512),\n",
    "            nn.LeakyReLU(0.2),\n",
    "            nn.Dropout(0.3)\n",
    "        )\n",
    "        self.hidden2 = nn.Sequential(\n",
    "            nn.Linear(512, 256),\n",
    "            nn.LeakyReLU(0.2),\n",
    "            nn.Dropout(0.3)\n",
    "        )\n",
    "        self.out = nn.Sequential(\n",
    "            torch.nn.Linear(256, n_out),\n",
    "            torch.nn.Sigmoid()\n",
    "        )\n",
    "\n",
    "    def forward(self, x):\n",
    "        x = x.type(torch.FloatTensor)\n",
    "        # print(\"Discriminator\",x.shape)\n",
    "        x = self.hidden0(x)\n",
    "        # print(x.shape)\n",
    "        x = self.hidden1(x)\n",
    "        # print(x.shape)\n",
    "        x = self.hidden2(x)\n",
    "        # print(x.shape)\n",
    "        x = self.out(x)\n",
    "        # print(x.shape)\n",
    "        return x\n",
    "    \n",
    "def vec_to_text(array):\n",
    "    return list(map(lambda vec: \" \".join(list(vocab[vec > 0.5])), array))\n",
    "\n",
    "def text_to_vec(array):\n",
    "    return vectorizer.fit_transform(array)\n",
    "    # return images.view(images.size(0), 784)\n",
    "\n",
    "# def vectors_to_images(vectors):\n",
    "#     return vectors.view(vectors.size(0), 1, 28, 28)"
   ]
  },
  {
   "cell_type": "markdown",
   "metadata": {},
   "source": [
    "# Generator Netowrk"
   ]
  },
  {
   "cell_type": "code",
   "execution_count": 14,
   "metadata": {},
   "outputs": [],
   "source": [
    "class GeneratorNet(torch.nn.Module):\n",
    "    \"\"\"\n",
    "    A three hidden-layer generative neural network\n",
    "    \"\"\"\n",
    "    def __init__(self):\n",
    "        super(GeneratorNet, self).__init__()\n",
    "        n_features = 1000\n",
    "        n_out = vocab_size\n",
    "        \n",
    "        self.hidden0 = nn.Sequential(\n",
    "            nn.Linear(n_features, 256),\n",
    "            nn.LeakyReLU(0.2)\n",
    "        )\n",
    "        self.hidden1 = nn.Sequential(            \n",
    "            nn.Linear(256, 512),\n",
    "            nn.LeakyReLU(0.2)\n",
    "        )\n",
    "        self.hidden2 = nn.Sequential(\n",
    "            nn.Linear(512, 1024),\n",
    "            nn.LeakyReLU(0.2)\n",
    "        )\n",
    "        \n",
    "        self.out = nn.Sequential(\n",
    "            nn.Linear(1024, n_out),\n",
    "            nn.Tanh()\n",
    "        )\n",
    "\n",
    "    def forward(self, x):\n",
    "        x = x.type(torch.FloatTensor)\n",
    "        # print(\"Generator\", x.shape)\n",
    "        x = self.hidden0(x)\n",
    "        # print(x.shape)\n",
    "        x = self.hidden1(x)\n",
    "        # print(x.shape)\n",
    "        x = self.hidden2(x)\n",
    "        # print(x.shape)\n",
    "        x = self.out(x)\n",
    "        # print(x.shape)\n",
    "        return x\n",
    "    \n",
    "# Noise\n",
    "def noise(size):\n",
    "    n = Variable(torch.randn(size, 1000))\n",
    "    # n = Variable(torch.randn(size, 256))\n",
    "    if torch.cuda.is_available(): return n.cuda() \n",
    "    return n"
   ]
  },
  {
   "cell_type": "code",
   "execution_count": 15,
   "metadata": {},
   "outputs": [],
   "source": [
    "discriminator = DiscriminatorNet()\n",
    "generator = GeneratorNet()\n",
    "\n",
    "if torch.cuda.is_available():\n",
    "    discriminator.cuda()\n",
    "    generator.cuda()"
   ]
  },
  {
   "cell_type": "code",
   "execution_count": 19,
   "metadata": {},
   "outputs": [
    {
     "name": "stdout",
     "output_type": "stream",
     "text": [
      "----------------------------------------------------------------\n",
      "        Layer (type)               Output Shape         Param #\n",
      "================================================================\n",
      "            Linear-1            [-1, 904, 1024]       1,293,312\n",
      "         LeakyReLU-2            [-1, 904, 1024]               0\n",
      "           Dropout-3            [-1, 904, 1024]               0\n",
      "            Linear-4             [-1, 904, 512]         524,800\n",
      "         LeakyReLU-5             [-1, 904, 512]               0\n",
      "           Dropout-6             [-1, 904, 512]               0\n",
      "            Linear-7             [-1, 904, 256]         131,328\n",
      "         LeakyReLU-8             [-1, 904, 256]               0\n",
      "           Dropout-9             [-1, 904, 256]               0\n",
      "           Linear-10               [-1, 904, 1]             257\n",
      "          Sigmoid-11               [-1, 904, 1]               0\n",
      "================================================================\n",
      "Total params: 1,949,697\n",
      "Trainable params: 1,949,697\n",
      "Non-trainable params: 0\n",
      "----------------------------------------------------------------\n",
      "Input size (MB): 4.35\n",
      "Forward/backward pass size (MB): 37.09\n",
      "Params size (MB): 7.44\n",
      "Estimated Total Size (MB): 48.88\n",
      "----------------------------------------------------------------\n"
     ]
    }
   ],
   "source": [
    "from torchsummary import summary\n",
    "\n",
    "summary(discriminator,input_size=(X.shape))"
   ]
  },
  {
   "cell_type": "code",
   "execution_count": 20,
   "metadata": {},
   "outputs": [
    {
     "name": "stdout",
     "output_type": "stream",
     "text": [
      "----------------------------------------------------------------\n",
      "        Layer (type)               Output Shape         Param #\n",
      "================================================================\n",
      "            Linear-1             [-1, 904, 256]         256,256\n",
      "         LeakyReLU-2             [-1, 904, 256]               0\n",
      "            Linear-3             [-1, 904, 512]         131,584\n",
      "         LeakyReLU-4             [-1, 904, 512]               0\n",
      "            Linear-5            [-1, 904, 1024]         525,312\n",
      "         LeakyReLU-6            [-1, 904, 1024]               0\n",
      "            Linear-7            [-1, 904, 1262]       1,293,550\n",
      "              Tanh-8            [-1, 904, 1262]               0\n",
      "================================================================\n",
      "Total params: 2,206,702\n",
      "Trainable params: 2,206,702\n",
      "Non-trainable params: 0\n",
      "----------------------------------------------------------------\n",
      "Input size (MB): 3.45\n",
      "Forward/backward pass size (MB): 42.13\n",
      "Params size (MB): 8.42\n",
      "Estimated Total Size (MB): 53.99\n",
      "----------------------------------------------------------------\n"
     ]
    }
   ],
   "source": [
    "summary(generator,input_size=((X.shape[0], 1000)))"
   ]
  },
  {
   "cell_type": "code",
   "execution_count": 57,
   "metadata": {},
   "outputs": [],
   "source": [
    "from torch.utils.tensorboard import SummaryWriter\n",
    "\n",
    "writer=SummaryWriter('./runs/logsdir')"
   ]
  },
  {
   "cell_type": "markdown",
   "metadata": {},
   "source": [
    "# Optimization"
   ]
  },
  {
   "cell_type": "code",
   "execution_count": 58,
   "metadata": {},
   "outputs": [],
   "source": [
    "# Optimizers\n",
    "d_optimizer = optim.Adam(discriminator.parameters(), lr=0.0002)\n",
    "g_optimizer = optim.Adam(generator.parameters(), lr=0.0002)\n",
    "\n",
    "# Loss function\n",
    "loss = nn.BCELoss()\n",
    "\n",
    "# Number of steps to apply to the discriminator\n",
    "d_steps = 1  # In Goodfellow et. al 2014 this variable is assigned to 1\n",
    "# Number of epochs\n",
    "num_epochs = 200"
   ]
  },
  {
   "cell_type": "markdown",
   "metadata": {},
   "source": [
    "# Training"
   ]
  },
  {
   "cell_type": "markdown",
   "metadata": {},
   "source": [
    "## bleh"
   ]
  },
  {
   "cell_type": "code",
   "execution_count": 59,
   "metadata": {},
   "outputs": [],
   "source": [
    "def real_data_target(size):\n",
    "    '''\n",
    "    Tensor containing ones, with shape = size\n",
    "    '''\n",
    "    data = Variable(torch.ones(size, 1))#.type(torch.LongTensor)\n",
    "    if torch.cuda.is_available(): return data.cuda()\n",
    "    return data\n",
    "\n",
    "def fake_data_target(size):\n",
    "    '''\n",
    "    Tensor containing zeros, with shape = size\n",
    "    '''\n",
    "    data = Variable(torch.zeros(size, 1))#.type(torch.LongTensor)\n",
    "    if torch.cuda.is_available(): return data.cuda()\n",
    "    return data"
   ]
  },
  {
   "cell_type": "code",
   "execution_count": 60,
   "metadata": {},
   "outputs": [],
   "source": [
    "def train_discriminator(optimizer, real_data, fake_data):\n",
    "    # Reset gradients\n",
    "    optimizer.zero_grad()\n",
    "    \n",
    "    # 1.1 Train on Real Data\n",
    "    # print(\"Training Discriminator on real data\")\n",
    "    prediction_real = discriminator(real_data)\n",
    "    # Calculate error and backpropagate\n",
    "    # print(\"real_data:\", real_data.size(), \n",
    "    #     \"\\nprediction_real:\", prediction_real.size(),\n",
    "    #     \"\\nreal_data_target:\", real_data_target(real_data.size(0)).size())\n",
    "        \n",
    "    error_real = loss(prediction_real, real_data_target(real_data.size(0)))\n",
    "    error_real.backward()\n",
    "\n",
    "    # 1.2 Train on Fake Data\n",
    "    prediction_fake = discriminator(fake_data)\n",
    "    # Calculate error and backpropagate\n",
    "    error_fake = loss(prediction_fake, fake_data_target(real_data.size(0)))\n",
    "    error_fake.backward()\n",
    "    \n",
    "    # 1.3 Update weights with gradients\n",
    "    optimizer.step()\n",
    "    \n",
    "    # Return error\n",
    "    return error_real + error_fake, prediction_real, prediction_fake\n",
    "\n",
    "def train_generator(optimizer, fake_data):\n",
    "    # 2. Train Generator\n",
    "    # Reset gradients\n",
    "    optimizer.zero_grad()\n",
    "    # Sample noise and generate fake data\n",
    "    prediction = discriminator(fake_data)\n",
    "    # Calculate error and backpropagate\n",
    "    error = loss(prediction, real_data_target(prediction.size(0)))\n",
    "    error.backward()\n",
    "    # Update weights with gradients\n",
    "    optimizer.step()\n",
    "    # Return error\n",
    "    return error"
   ]
  },
  {
   "cell_type": "markdown",
   "metadata": {},
   "source": [
    "## Generate Samples for Testing"
   ]
  },
  {
   "cell_type": "code",
   "execution_count": 61,
   "metadata": {},
   "outputs": [
    {
     "data": {
      "text/plain": [
       "torch.Size([16, 1000])"
      ]
     },
     "execution_count": 61,
     "metadata": {},
     "output_type": "execute_result"
    }
   ],
   "source": [
    "num_test_samples = 16\n",
    "test_noise = noise(num_test_samples)\n",
    "test_noise.shape"
   ]
  },
  {
   "cell_type": "markdown",
   "metadata": {},
   "source": [
    "## Start Training"
   ]
  },
  {
   "cell_type": "code",
   "execution_count": 62,
   "metadata": {},
   "outputs": [
    {
     "name": "stdout",
     "output_type": "stream",
     "text": [
      "Epoch: [70/200], Batch Num: [0/28]\n",
      "Discriminator Loss: 0.3743, Generator Loss: 2.1095\n",
      "D(x): 0.8693, D(G(z)): 0.1744\n"
     ]
    }
   ],
   "source": [
    "logging = Logger(model_name='VGAN', data_name='tcc_ceds_music_dataset')\n",
    "\n",
    "for epoch in range(num_epochs):\n",
    "    # for n_batch, real_batch in tqdm(enumerate(dataloader)):\n",
    "    for n_batch, real_batch in enumerate(dataloader):\n",
    "        # print(n_batch, real_batch.size())\n",
    "\n",
    "        # 1. Train Discriminator\n",
    "        real_data = Variable(real_batch)\n",
    "        if torch.cuda.is_available(): real_data = real_data.cuda()\n",
    "        \n",
    "        # Generate fake data and train G\n",
    "        \n",
    "        # print(real_data.size(), real_data.size(0), noise(real_data.size(0)).size())\n",
    "        fake_data = generator(noise(real_data.size(0))).detach()\n",
    "        # print(\"Fake Data:\",fake_data.shape)\n",
    "        \n",
    "        # Train D\n",
    "        d_error, d_pred_real, d_pred_fake = train_discriminator(d_optimizer,\n",
    "                                                                real_data, fake_data)\n",
    "\n",
    "        # 2. Train Generator\n",
    "        # Generate fake data\n",
    "        fake_data = generator(noise(real_batch.size(0)))\n",
    "        # Train G\n",
    "        g_error = train_generator(g_optimizer, fake_data)\n",
    "        # Log error\n",
    "        logging.log(d_error, g_error, epoch, n_batch, num_batches)\n",
    "\n",
    "        # Display Progress\n",
    "        if (n_batch) % 50 == 0:\n",
    "            display.clear_output(True)\n",
    "            # Display Images\n",
    "            test_output = generator(test_noise).data.cpu().type(torch.FloatTensor)\n",
    "            test_text = vec_to_text(test_output)\n",
    "            # logging.log_images(test_text, num_test_samples, epoch, n_batch, num_batches)\n",
    "            # Display status Logs\n",
    "            logging.display_status(\n",
    "                epoch, num_epochs, n_batch, num_batches,\n",
    "                d_error, g_error, d_pred_real, d_pred_fake\n",
    "            )\n",
    "        #Model Checkpoints\n",
    "        logging.save_models(generator, discriminator, epoch)"
   ]
  },
  {
   "cell_type": "markdown",
   "metadata": {},
   "source": [
    "# Check Output"
   ]
  },
  {
   "cell_type": "code",
   "execution_count": null,
   "metadata": {},
   "outputs": [
    {
     "data": {
      "text/plain": [
       "['away baby believe better cause close come dear dream eye fall good hand head hear leave life line live look mind need open people play sing sleep song start stay tell think touch true want wish write',\n",
       " 'blue days gonna hear kiss know life live need stay tell think want',\n",
       " 'baby better blue break breathe bring cause change come dream easy fall fight get girl give gonna hear know leave like live lose need pain pretty real save sleep song soon sorrow start stay summer talk tell today tomorrow turn want watch word world',\n",
       " 'ahead arm away better blood blow blue break bring burn change club come dance days dream fear follow forget fuck future get girl go gonna hang kiss know leave lie life like little lonely long lose love make meet mind money mother need night ohoh pity point return sail say scream secret shoot sleep somebody soon start stay street string time tonight tree try turn walk want watch whisper wind woman world',\n",
       " 'arm away beauty better blood break breathe bring burn cause change come cover days fight follow get girl go gonna hear heart hurt know leave lie live lonely long lose love need night pain rain remember say scream sleep somebody soon sound start stay talk till time try voice walk want wind',\n",
       " 'ahead arm away better black blood blue break breathe bring build bury change come cry days deep desire devil drop fear fight follow forget fuck get girl go gonna grind grow hear help house hurt kill leave lie light live lonely long lose money need night ohoh oooh open pain party pity pretty rain ready sense sleep somebody song sound stand stay take talk till time true try turn want wind yeah',\n",
       " 'away blue breathe change gonna hear leave live look lose need pain play rain stay time want',\n",
       " 'ahead arm away better black blue break bring burn change come cover days desire fear fight follow girl go gonna hear help hold hurt kill know leave lonely long lose love make need night pain place rain return shame shoot somebody soon stay time try walk want watch whisper',\n",
       " 'baby change come dream fall hand know leave life live look lose need sleep start stay tell want',\n",
       " 'better blue break change come cover days fight girl gonna hear know leave live lonely lose love need pain rain remember sleep start stay time want',\n",
       " 'arm change come dream eye forget girl go hard heart hold kiss know leave life live lonely lose mind need rain remember say soul tell time',\n",
       " 'arm away black blue bring days gonna hear leave live rain ready sleep song stay time want',\n",
       " 'away baby better blue break breathe change come days dream fear fight get give go gonna hard help hurt kiss know leave live lose need pain pretty real start stay strong summer tear time walk want',\n",
       " 'ahead arm better black blue break bring change come cover days fight follow girl gonna hear kill leave light live lonely lose need pain place rain ready remember sleep stay talk try want',\n",
       " 'arm away blue dream feel gonna good hear leave life look people rain stay take think want yeah',\n",
       " 'away baby better change days dream girl gonna know leave life live lonely look lose need sleep stay turn want']"
      ]
     },
     "execution_count": 40,
     "metadata": {},
     "output_type": "execute_result"
    }
   ],
   "source": [
    "vec_to_text(generator(test_noise).data.cpu().type(torch.FloatTensor))"
   ]
  },
  {
   "cell_type": "markdown",
   "metadata": {},
   "source": [
    "***\n",
    "# END\n",
    "***"
   ]
  }
 ],
 "metadata": {
  "interpreter": {
   "hash": "b0fa6594d8f4cbf19f97940f81e996739fb7646882a419484c72d19e05852a7e"
  },
  "kernelspec": {
   "display_name": "Python 3.9.7 64-bit",
   "language": "python",
   "name": "python3"
  },
  "language_info": {
   "codemirror_mode": {
    "name": "ipython",
    "version": 3
   },
   "file_extension": ".py",
   "mimetype": "text/x-python",
   "name": "python",
   "nbconvert_exporter": "python",
   "pygments_lexer": "ipython3",
   "version": "3.9.7"
  },
  "orig_nbformat": 4
 },
 "nbformat": 4,
 "nbformat_minor": 2
}
