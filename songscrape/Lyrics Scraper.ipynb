{
 "cells": [
  {
   "cell_type": "code",
   "execution_count": 3,
   "id": "49a4340c",
   "metadata": {},
   "outputs": [],
   "source": [
    "import pandas as pd\n",
    "import warnings\n",
    "import matplotlib.pyplot as plt\n",
    "import numpy\n",
    "warnings.filterwarnings('ignore')\n",
    "import requests\n",
    "from bs4 import BeautifulSoup\n",
    "import os\n",
    "import re\n",
    "from lyricsgenius import Genius"
   ]
  },
  {
   "cell_type": "code",
   "execution_count": 4,
   "id": "d54cc6f8",
   "metadata": {},
   "outputs": [],
   "source": [
    "# Token for API access\n",
    "token = 'bJ4XMi29S5bBBuQyN3VelNiEaqzKqjDXm05bzqyFmpjn3Gg_yr0xcQDc4flw93rB'\n",
    "genius = Genius(token)\n",
    "genius.remove_section_headers = True\n",
    "genius.skip_non_songs = True\n",
    "genius.verbose = True"
   ]
  },
  {
   "cell_type": "markdown",
   "id": "1a568a49",
   "metadata": {},
   "source": [
    "List of artists from [Rock on the Net](http://www.rockonthenet.com/archive/2020/topartists.htm)"
   ]
  },
  {
   "cell_type": "code",
   "execution_count": 5,
   "id": "1194f7be",
   "metadata": {
    "scrolled": true
   },
   "outputs": [],
   "source": [
    "# artists = pd.read_csv('2020 Top Pop Artists.csv', header=None, names = ['Rank', 'Name'])\n",
    "# artist_list = artists['Name'].to_list()\n",
    "# artist_list"
   ]
  },
  {
   "cell_type": "code",
   "execution_count": 60,
   "id": "fb439734",
   "metadata": {},
   "outputs": [],
   "source": [
    "artist_list = [\n",
    "            # 'Patti Smith', \n",
    "            # 'Joni Mitchell',\n",
    "            # 'Jim Morrison',\n",
    "            # 'Billie Eilish',\n",
    "            # 'Hank Williams',\n",
    "           # # 'Don Everly',\n",
    "            ## 'Harry Styles',\n",
    "            # 'Bonnie Raitt',\n",
    "            # 'Johnny Cash',\n",
    "            'Lizzo']"
   ]
  },
  {
   "cell_type": "code",
   "execution_count": 61,
   "id": "e8931daa",
   "metadata": {},
   "outputs": [],
   "source": [
    "# page = 1\n",
    "# lyrics = []\n",
    "# while page:\n",
    "#     res = genius.tag('pop', page=page)\n",
    "#     for hit in res['hits']:\n",
    "#         song_lyrics = genius.lyrics(song_url=hit['url'])\n",
    "#         lyrics.append(song_lyrics)\n",
    "#     page = res['next_page']"
   ]
  },
  {
   "cell_type": "code",
   "execution_count": 62,
   "id": "8b2b46dc",
   "metadata": {
    "scrolled": true
   },
   "outputs": [
    {
     "name": "stdout",
     "output_type": "stream",
     "text": [
      "Searching for songs by Lizzo...\n",
      "\n",
      "Song 1: \"Truth Hurts\"\n",
      "Song 2: \"Juice\"\n",
      "Song 3: \"Good as Hell\"\n",
      "Song 4: \"Boys\"\n",
      "Song 5: \"Tempo\"\n",
      "Song 6: \"Cuz I Love You\"\n",
      "Song 7: \"Like a Girl\"\n",
      "Song 8: \"Good as Hell (Remix)\"\n",
      "Song 9: \"Soulmate\"\n",
      "Song 10: \"Jerome\"\n",
      "Song 11: \"Water Me\"\n",
      "Song 12: \"Scuse Me\"\n",
      "Song 13: \"Coconut Oil\"\n",
      "Song 14: \"Better in Color\"\n",
      "Song 15: \"Truth Hurts (DaBaby Remix)\"\n",
      "Song 16: \"Heaven Help Me\"\n",
      "Song 17: \"Phone\"\n",
      "Song 18: \"Exactly How I Feel\"\n",
      "Song 19: \"Cry Baby\"\n",
      "Song 20: \"Lingerie\"\n",
      "Song 21: \"Worship\"\n",
      "Song 22: \"Batches & Cookies\"\n",
      "Song 23: \"Fitness\"\n",
      "Song 24: \"My Skin\"\n",
      "Song 25: \"Deep\"\n",
      "\"2016 MTV VMA White Carpet Interview/Freestyle\" is not valid. Skipping.\n",
      "Song 26: \"Humanize\"\n",
      "Song 27: \"Ride\"\n",
      "Song 28: \"Truth Hurts (AB6IX Remix)\"\n",
      "Song 29: \"Ain’t I\"\n",
      "Song 30: \"En Love\"\n",
      "Song 31: \"Betcha\"\n",
      "Song 32: \"W.E.R.K. Pt. II\"\n",
      "Song 33: \"1 Deep\"\n",
      "Song 34: \"W.E.R.K.\"\n",
      "Song 35: \"Lizzie Borden\"\n",
      "Song 36: \"Bother Me\"\n",
      "Song 37: \"Paris\"\n",
      "Song 38: \"Never Felt Like Christmas\"\n",
      "Song 39: \"Pants vs Dress\"\n",
      "Song 40: \"Faded\"\n",
      "Song 41: \"Jang a Lang\"\n",
      "Song 42: \"The Realest\"\n",
      "Song 43: \"Bus Passes and Happy Meals\"\n",
      "Song 44: \"Stayin’ Alive\"\n",
      "Song 45: \"Good As Hell (Radio Edit)\"\n",
      "Song 46: \"The Fade\"\n",
      "Song 47: \"T-Baby\"\n",
      "Song 48: \"B.G.S.W.\"\n",
      "Song 49: \"Truth Hurts (CID Remix)\"\n",
      "Song 50: \"Wat U Mean\"\n",
      "Song 51: \"BYE BITCH\"\n",
      "Song 52: \"Hot Dish\"\n",
      "Song 53: \"Luv It\"\n",
      "Song 54: \"Be Still\"\n",
      "Song 55: \"Go\"\n",
      "Song 56: \"Nothing Breaks Like a Heart\"\n",
      "Song 57: \"Bloodlines\"\n",
      "Song 58: \"A Change Is Gonna Come (One World: Together At Home)\"\n",
      "Song 59: \"Rapture\"\n",
      "Song 60: \"Down South*\"\n",
      "Song 61: \"Make Way\"\n",
      "Song 62: \"Juice (Kito Remix)\"\n",
      "\"Grrrl Anthem\" is not valid. Skipping.\n",
      "\"Night Watch\" is not valid. Skipping.\n",
      "Song 63: \"Good as Hell (BNDR Remix)\"\n",
      "\"Can I Live\" is not valid. Skipping.\n",
      "Song 64: \"Absurdity\"\n",
      "\"Birthday Girl\" is not valid. Skipping.\n",
      "\"Clank Clank*\" is not valid. Skipping.\n",
      "Song 65: \"Undercover This Time\"\n",
      "Song 66: \"Butter (BBC Radio 1 Live Lounge Cover)\"\n",
      "Song 67: \"Juice (Breakbot Mix)\"\n",
      "\"Pushin’ On the Pedal*\" is not valid. Skipping.\n",
      "\"Bugg’n*\" is not valid. Skipping.\n",
      "Song 68: \"!Truth hurts! Curse warning!\"\n",
      "\"Top Floor*\" is not valid. Skipping.\n",
      "\"Poppin’*\" is not valid. Skipping.\n",
      "\"Love Me\" is not valid. Skipping.\n",
      "Couldn't find the lyrics section. Please report this if the song has lyrics.\n",
      "Song URL: https://genius.com/Vitamin-string-quartet-truth-hurts-lyrics\n",
      "Done. Found 68 songs.\n"
     ]
    }
   ],
   "source": [
    "# List of artists\n",
    "# artist_list = ['Mumford & Sons', 'Adele', 'Foo Fighters']\n",
    "\n",
    "all_songs = pd.DataFrame(columns = ['Artist', 'Song', 'Lyrics'])\n",
    "\n",
    "for i in artist_list:\n",
    "    artist = genius.search_artist(i, max_songs = 100)\n",
    "\n",
    "    for a in artist.songs:\n",
    "        # Cleaning the lyrics string\n",
    "        lyrics = re.sub(\".*\\dEmbedShare URLCopyEmbedCopy$\", '', a.lyrics)\n",
    "#         lyrics = re.sub('\\n', '.', lyrics)\n",
    "        all_songs.loc[len(all_songs)] = [a.artist, a.title, lyrics]\n"
   ]
  },
  {
   "cell_type": "code",
   "execution_count": 63,
   "id": "e7fd9d9f",
   "metadata": {},
   "outputs": [
    {
     "data": {
      "text/html": [
       "<div>\n",
       "<style scoped>\n",
       "    .dataframe tbody tr th:only-of-type {\n",
       "        vertical-align: middle;\n",
       "    }\n",
       "\n",
       "    .dataframe tbody tr th {\n",
       "        vertical-align: top;\n",
       "    }\n",
       "\n",
       "    .dataframe thead th {\n",
       "        text-align: right;\n",
       "    }\n",
       "</style>\n",
       "<table border=\"1\" class=\"dataframe\">\n",
       "  <thead>\n",
       "    <tr style=\"text-align: right;\">\n",
       "      <th></th>\n",
       "      <th>Artist</th>\n",
       "      <th>Song</th>\n",
       "      <th>Lyrics</th>\n",
       "    </tr>\n",
       "  </thead>\n",
       "  <tbody>\n",
       "    <tr>\n",
       "      <th>0</th>\n",
       "      <td>Lizzo</td>\n",
       "      <td>Truth Hurts</td>\n",
       "      <td>Why men great 'til they gotta be great?\\nWoo!\\...</td>\n",
       "    </tr>\n",
       "    <tr>\n",
       "      <th>1</th>\n",
       "      <td>Lizzo</td>\n",
       "      <td>Juice</td>\n",
       "      <td>Mirror, mirror on the wall\\nDon't say it ’caus...</td>\n",
       "    </tr>\n",
       "    <tr>\n",
       "      <th>2</th>\n",
       "      <td>Lizzo</td>\n",
       "      <td>Good as Hell</td>\n",
       "      <td>I do my hair toss, check my nails\\nBaby, how y...</td>\n",
       "    </tr>\n",
       "    <tr>\n",
       "      <th>3</th>\n",
       "      <td>Lizzo</td>\n",
       "      <td>Boys</td>\n",
       "      <td>Ayy, boy, whatcha say, boy?\\nYou tryna play co...</td>\n",
       "    </tr>\n",
       "    <tr>\n",
       "      <th>4</th>\n",
       "      <td>Lizzo</td>\n",
       "      <td>Tempo</td>\n",
       "      <td>I've been waitin' for this one\\nTurn it up\\n\\n...</td>\n",
       "    </tr>\n",
       "    <tr>\n",
       "      <th>...</th>\n",
       "      <td>...</td>\n",
       "      <td>...</td>\n",
       "      <td>...</td>\n",
       "    </tr>\n",
       "    <tr>\n",
       "      <th>63</th>\n",
       "      <td>Lizzo</td>\n",
       "      <td>Absurdity</td>\n",
       "      <td>Lyrics for this song have yet to be released. ...</td>\n",
       "    </tr>\n",
       "    <tr>\n",
       "      <th>64</th>\n",
       "      <td>Lizzo</td>\n",
       "      <td>Undercover This Time</td>\n",
       "      <td>Snippet:\\nIf this bitch just don't get it\\nMay...</td>\n",
       "    </tr>\n",
       "    <tr>\n",
       "      <th>65</th>\n",
       "      <td>Lizzo</td>\n",
       "      <td>Butter (BBC Radio 1 Live Lounge Cover)</td>\n",
       "      <td>Smooth like butter\\nLike a criminal undercover...</td>\n",
       "    </tr>\n",
       "    <tr>\n",
       "      <th>66</th>\n",
       "      <td>Lizzo</td>\n",
       "      <td>Juice (Breakbot Mix)</td>\n",
       "      <td>Mirror, mirror on the wall\\nDon't say it 'caus...</td>\n",
       "    </tr>\n",
       "    <tr>\n",
       "      <th>67</th>\n",
       "      <td>Lizzo</td>\n",
       "      <td>!Truth hurts! Curse warning!</td>\n",
       "      <td>Why are men great 'til they gotta be great?\\nW...</td>\n",
       "    </tr>\n",
       "  </tbody>\n",
       "</table>\n",
       "<p>68 rows × 3 columns</p>\n",
       "</div>"
      ],
      "text/plain": [
       "   Artist                                    Song  \\\n",
       "0   Lizzo                             Truth Hurts   \n",
       "1   Lizzo                                   Juice   \n",
       "2   Lizzo                            Good as Hell   \n",
       "3   Lizzo                                    Boys   \n",
       "4   Lizzo                                   Tempo   \n",
       "..    ...                                     ...   \n",
       "63  Lizzo                               Absurdity   \n",
       "64  Lizzo                    Undercover This Time   \n",
       "65  Lizzo  Butter (BBC Radio 1 Live Lounge Cover)   \n",
       "66  Lizzo                    Juice (Breakbot Mix)   \n",
       "67  Lizzo            !Truth hurts! Curse warning!   \n",
       "\n",
       "                                               Lyrics  \n",
       "0   Why men great 'til they gotta be great?\\nWoo!\\...  \n",
       "1   Mirror, mirror on the wall\\nDon't say it ’caus...  \n",
       "2   I do my hair toss, check my nails\\nBaby, how y...  \n",
       "3   Ayy, boy, whatcha say, boy?\\nYou tryna play co...  \n",
       "4   I've been waitin' for this one\\nTurn it up\\n\\n...  \n",
       "..                                                ...  \n",
       "63  Lyrics for this song have yet to be released. ...  \n",
       "64  Snippet:\\nIf this bitch just don't get it\\nMay...  \n",
       "65  Smooth like butter\\nLike a criminal undercover...  \n",
       "66  Mirror, mirror on the wall\\nDon't say it 'caus...  \n",
       "67  Why are men great 'til they gotta be great?\\nW...  \n",
       "\n",
       "[68 rows x 3 columns]"
      ]
     },
     "execution_count": 63,
     "metadata": {},
     "output_type": "execute_result"
    }
   ],
   "source": [
    "all_songs"
   ]
  },
  {
   "cell_type": "code",
   "execution_count": 64,
   "id": "2858ad4d",
   "metadata": {},
   "outputs": [
    {
     "name": "stdout",
     "output_type": "stream",
     "text": [
      "[\"Why men great 'til they gotta be great?\", 'Woo!', '', \"I just took a DNA test, turns out I'm 100% that bitch\", \"Even when I'm crying crazy\", \"Yeah, I got boy problems, that's the human in me\", \"Bling bling, then I solve 'em, that's the goddess in me\", 'You coulda had a bad bitch, non-committal', 'Help you with your career just a little', \"You're 'posed to hold me down, but you're holding me back\", \"And that's the sound of me not calling you back\", '', \"Why men great 'til they gotta be great? ('Til they gotta be great)\", \"Don't text me, tell it straight to my face (Tell it straight to my face)\", 'Best friend sat me down in the salon chair (Down in the salon chair)', 'Shampoo press, get you out of my hair', 'Fresh photos with the bomb lighting (With the bomb lighting)', 'New man on the Minnesota Vikings (Minnesota Vikings)', 'Truth hurts, needed something more exciting (Yee)', 'Bom bom bi dom bi dum bum bay (Eh, yeah, yeah, yeah)', '', 'You tried to break my heart?', 'Oh, that breaks my heart', 'That you thought you ever had it', \"No, you ain't from the start\", \"Hey, I'm glad you're back with your bitch\", 'I mean, who would wanna hide this?', 'I will never, ever, ever, ever, ever be your side chick', 'I put the sing in single', \"Ain't worried 'bout a ring on my finger\", 'So you can tell your friend, \"Shoot your shot\" when you see him', \"It's okay, he already in my DMs\", \"Why men great 'til they gotta be great? ('Til they gotta be great)\", \"Don't text me, tell it straight to my face (Tell it straight to my face)\", 'Best friend sat me down in the salon chair (Down in the salon chair)', 'Shampoo press, get you out of my hair', 'Fresh photos with the bomb lighting (With the bomb lighting)', 'New man on the Minnesota Vikings (Minnesota Vikings)', 'Truth hurts, needed something more exciting (Yee)', 'Bom bom bi dom bi dum bum bay (Eh, yeah, yeah, yeah)', '', \"I'ma hit you back in a minute (Yeah, yeah)\", \"I don't play tag, bitch, I been it (One time)\", \"We don't fuck with lies (Two times), we don't do goodbyes (Woo)\", 'We just keep it pushing like ay-ay-ay', \"I'ma hit you back in a minute (Yeah, yeah)\", \"I don't play tag, bitch, I been it (One time)\", \"We don't fuck with lies (Two times), we don't do goodbyes (Woo)\", 'We just keep it pushing like ay-ay-ay (Woo)', '', \"Why men great 'til they gotta be great? ('Til they gotta be great)\", \"Don't text me, tell it straight to my face (Tell it straight to my face)\", 'Best friend sat me down in the salon chair (Down in the salon chair)', 'Shampoo press, get you out of my hair', 'Fresh photos with the bomb lighting (With the bomb lighting)', 'New man on the Minnesota Vikings (Minnesota Vikings)', 'Truth hurts, needed something more exciting (Yee)', 'Bom bom bi dom bi dum bum bay (Eh, yeah, yeah, yeah)', 'With the bomb lighting', 'Minnesota Vikings', '']\n"
     ]
    }
   ],
   "source": [
    "print(all_songs['Lyrics'][0].split('\\n'))"
   ]
  },
  {
   "cell_type": "code",
   "execution_count": 65,
   "id": "9a6b64c6",
   "metadata": {},
   "outputs": [],
   "source": [
    "# all_songs.to_csv('AllSongs.csv')\n",
    "all_songs.to_csv('CleanSongs_lizzo.csv')"
   ]
  },
  {
   "cell_type": "code",
   "execution_count": 66,
   "id": "aca91537",
   "metadata": {},
   "outputs": [
    {
     "data": {
      "text/plain": [
       "68"
      ]
     },
     "execution_count": 66,
     "metadata": {},
     "output_type": "execute_result"
    }
   ],
   "source": [
    "# all_songs.loc[0]['Lyrics']\n",
    "len(all_songs)"
   ]
  },
  {
   "cell_type": "code",
   "execution_count": 67,
   "id": "b3b96e34",
   "metadata": {},
   "outputs": [
    {
     "data": {
      "text/plain": [
       "Lizzo    68\n",
       "Name: Artist, dtype: int64"
      ]
     },
     "execution_count": 67,
     "metadata": {},
     "output_type": "execute_result"
    }
   ],
   "source": [
    "all_songs['Artist'].value_counts()"
   ]
  },
  {
   "cell_type": "code",
   "execution_count": null,
   "id": "cb434996",
   "metadata": {},
   "outputs": [],
   "source": []
  }
 ],
 "metadata": {
  "kernelspec": {
   "display_name": "Python 3",
   "language": "python",
   "name": "python3"
  },
  "language_info": {
   "codemirror_mode": {
    "name": "ipython",
    "version": 3
   },
   "file_extension": ".py",
   "mimetype": "text/x-python",
   "name": "python",
   "nbconvert_exporter": "python",
   "pygments_lexer": "ipython3",
   "version": "3.9.7"
  }
 },
 "nbformat": 4,
 "nbformat_minor": 5
}
