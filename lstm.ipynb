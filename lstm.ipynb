{
 "cells": [
  {
   "cell_type": "code",
   "execution_count": 1,
   "metadata": {},
   "outputs": [],
   "source": [
    "from IPython import display\n",
    "from IPython.display import Markdown as md\n",
    "\n",
    "\n",
    "from sklearn.feature_extraction.text import CountVectorizer, TfidfVectorizer\n",
    "\n",
    "import pandas as pd\n",
    "import numpy as np\n",
    "\n",
    "import matplotlib.pyplot as plt\n",
    "%matplotlib inline"
   ]
  },
  {
   "cell_type": "markdown",
   "metadata": {},
   "source": [
    "# Read data"
   ]
  },
  {
   "cell_type": "code",
   "execution_count": 2,
   "metadata": {},
   "outputs": [
    {
     "data": {
      "text/html": [
       "<div>\n",
       "<style scoped>\n",
       "    .dataframe tbody tr th:only-of-type {\n",
       "        vertical-align: middle;\n",
       "    }\n",
       "\n",
       "    .dataframe tbody tr th {\n",
       "        vertical-align: top;\n",
       "    }\n",
       "\n",
       "    .dataframe thead th {\n",
       "        text-align: right;\n",
       "    }\n",
       "</style>\n",
       "<table border=\"1\" class=\"dataframe\">\n",
       "  <thead>\n",
       "    <tr style=\"text-align: right;\">\n",
       "      <th></th>\n",
       "      <th>Artist</th>\n",
       "      <th>Song</th>\n",
       "      <th>Lyrics</th>\n",
       "      <th>sentence</th>\n",
       "    </tr>\n",
       "  </thead>\n",
       "  <tbody>\n",
       "    <tr>\n",
       "      <th>0</th>\n",
       "      <td>The Weeknd</td>\n",
       "      <td>The Hills</td>\n",
       "      <td>[Intro].Yeah.Yeah.Yeah..[Verse 1].Your man on ...</td>\n",
       "      <td>[[Intro], Yeah, Yeah, Yeah, , [Verse 1], Your ...</td>\n",
       "    </tr>\n",
       "    <tr>\n",
       "      <th>1</th>\n",
       "      <td>The Weeknd</td>\n",
       "      <td>Starboy</td>\n",
       "      <td>[Verse 1].I'm tryna put you in the worst mood,...</td>\n",
       "      <td>[[Verse 1], I'm tryna put you in the worst moo...</td>\n",
       "    </tr>\n",
       "    <tr>\n",
       "      <th>2</th>\n",
       "      <td>The Weeknd</td>\n",
       "      <td>Can’t Feel My Face</td>\n",
       "      <td>[Produced by Max Martin]..[Verse 1].And I know...</td>\n",
       "      <td>[[Produced by Max Martin], , [Verse 1], And I ...</td>\n",
       "    </tr>\n",
       "    <tr>\n",
       "      <th>3</th>\n",
       "      <td>The Weeknd</td>\n",
       "      <td>Reminder</td>\n",
       "      <td>[Verse 1].Record man play my song on the radio...</td>\n",
       "      <td>[[Verse 1], Record man play my song on the rad...</td>\n",
       "    </tr>\n",
       "    <tr>\n",
       "      <th>4</th>\n",
       "      <td>The Weeknd</td>\n",
       "      <td>Call Out My Name</td>\n",
       "      <td>[Verse 1].We found each other.I helped you out...</td>\n",
       "      <td>[[Verse 1], We found each other, I helped you ...</td>\n",
       "    </tr>\n",
       "    <tr>\n",
       "      <th>...</th>\n",
       "      <td>...</td>\n",
       "      <td>...</td>\n",
       "      <td>...</td>\n",
       "      <td>...</td>\n",
       "    </tr>\n",
       "    <tr>\n",
       "      <th>993</th>\n",
       "      <td>Justin Bieber</td>\n",
       "      <td>Love Yourself - Acoustic (with Ed Sheeran) [Bo...</td>\n",
       "      <td>[Verse 1].All the times that you rained on my ...</td>\n",
       "      <td>[[Verse 1], All the times that you rained on m...</td>\n",
       "    </tr>\n",
       "    <tr>\n",
       "      <th>994</th>\n",
       "      <td>Justin Bieber</td>\n",
       "      <td>I’ll Show you  (Acoustic) - Live</td>\n",
       "      <td>[Verse 1].My life is a movie and everyone's wa...</td>\n",
       "      <td>[[Verse 1], My life is a movie and everyone's ...</td>\n",
       "    </tr>\n",
       "    <tr>\n",
       "      <th>995</th>\n",
       "      <td>Justin Bieber</td>\n",
       "      <td>Love Yourself (Acoustic) - Live</td>\n",
       "      <td>[Verse 1].For all the times that you rained on...</td>\n",
       "      <td>[[Verse 1], For all the times that you rained ...</td>\n",
       "    </tr>\n",
       "    <tr>\n",
       "      <th>996</th>\n",
       "      <td>Justin Bieber</td>\n",
       "      <td>Trust (Acoustic) - Live</td>\n",
       "      <td>[Chorus].If I believe in love.And you believe ...</td>\n",
       "      <td>[[Chorus], If I believe in love, And you belie...</td>\n",
       "    </tr>\n",
       "    <tr>\n",
       "      <th>997</th>\n",
       "      <td>Justin Bieber</td>\n",
       "      <td>Holy &amp; together</td>\n",
       "      <td>Oh.Yeah.Yikes..You know you love me, I know yo...</td>\n",
       "      <td>[Oh, Yeah, Yikes, , You know you love me, I kn...</td>\n",
       "    </tr>\n",
       "  </tbody>\n",
       "</table>\n",
       "<p>994 rows × 4 columns</p>\n",
       "</div>"
      ],
      "text/plain": [
       "            Artist                                               Song  \\\n",
       "0       The Weeknd                                          The Hills   \n",
       "1       The Weeknd                                            Starboy   \n",
       "2       The Weeknd                                 Can’t Feel My Face   \n",
       "3       The Weeknd                                           Reminder   \n",
       "4       The Weeknd                                   Call Out My Name   \n",
       "..             ...                                                ...   \n",
       "993  Justin Bieber  Love Yourself - Acoustic (with Ed Sheeran) [Bo...   \n",
       "994  Justin Bieber                   I’ll Show you  (Acoustic) - Live   \n",
       "995  Justin Bieber                    Love Yourself (Acoustic) - Live   \n",
       "996  Justin Bieber                            Trust (Acoustic) - Live   \n",
       "997  Justin Bieber                                    Holy & together   \n",
       "\n",
       "                                                Lyrics  \\\n",
       "0    [Intro].Yeah.Yeah.Yeah..[Verse 1].Your man on ...   \n",
       "1    [Verse 1].I'm tryna put you in the worst mood,...   \n",
       "2    [Produced by Max Martin]..[Verse 1].And I know...   \n",
       "3    [Verse 1].Record man play my song on the radio...   \n",
       "4    [Verse 1].We found each other.I helped you out...   \n",
       "..                                                 ...   \n",
       "993  [Verse 1].All the times that you rained on my ...   \n",
       "994  [Verse 1].My life is a movie and everyone's wa...   \n",
       "995  [Verse 1].For all the times that you rained on...   \n",
       "996  [Chorus].If I believe in love.And you believe ...   \n",
       "997  Oh.Yeah.Yikes..You know you love me, I know yo...   \n",
       "\n",
       "                                              sentence  \n",
       "0    [[Intro], Yeah, Yeah, Yeah, , [Verse 1], Your ...  \n",
       "1    [[Verse 1], I'm tryna put you in the worst moo...  \n",
       "2    [[Produced by Max Martin], , [Verse 1], And I ...  \n",
       "3    [[Verse 1], Record man play my song on the rad...  \n",
       "4    [[Verse 1], We found each other, I helped you ...  \n",
       "..                                                 ...  \n",
       "993  [[Verse 1], All the times that you rained on m...  \n",
       "994  [[Verse 1], My life is a movie and everyone's ...  \n",
       "995  [[Verse 1], For all the times that you rained ...  \n",
       "996  [[Chorus], If I believe in love, And you belie...  \n",
       "997  [Oh, Yeah, Yikes, , You know you love me, I kn...  \n",
       "\n",
       "[994 rows x 4 columns]"
      ]
     },
     "execution_count": 2,
     "metadata": {},
     "output_type": "execute_result"
    }
   ],
   "source": [
    "from functools import reduce\n",
    "df = pd.read_csv(\"songs998.csv\", index_col=0).dropna(subset=[\"Lyrics\"])\n",
    "df[\"sentence\"] = df[\"Lyrics\"].str.split(\".\")\n",
    "df"
   ]
  },
  {
   "cell_type": "code",
   "execution_count": 3,
   "metadata": {},
   "outputs": [
    {
     "data": {
      "text/plain": [
       "0                      Your man on the road, he doin promo\n",
       "1             You said, \"Keep our business on the low-low\"\n",
       "2                Im just tryna get you out the friend zone\n",
       "3               Cause you look even better than the photos\n",
       "4                 I cant find your house, send me the info\n",
       "                               ...                        \n",
       "40819                            Scene goes frame by frame\n",
       "40820                                  Who swayed to suede\n",
       "40821                          Youll hear it all dont call\n",
       "40822             Throw away everything Ive written you oh\n",
       "40823    Anything just like every single thing todayEmb...\n",
       "Length: 40824, dtype: object"
      ]
     },
     "execution_count": 3,
     "metadata": {},
     "output_type": "execute_result"
    }
   ],
   "source": [
    "sentence = []\n",
    "for sublist in df[\"sentence\"]:\n",
    "    sentence.extend(sublist)\n",
    "\n",
    "sentence = pd.Series([ x.strip() for x in sentence if (x.strip() != \"\") and (not x.strip().startswith(\"[\")) and (len(x.split()) >3)])\n",
    "sentence = sentence.str.replace(\"'\", \"\")\n",
    "sentence = sentence.apply(lambda x: (\" \".join([t for t in x.split() if not t.isnumeric()])))\n",
    "sentence"
   ]
  },
  {
   "cell_type": "markdown",
   "metadata": {},
   "source": [
    "# Vectorise"
   ]
  },
  {
   "cell_type": "code",
   "execution_count": 44,
   "metadata": {},
   "outputs": [
    {
     "data": {
      "text/plain": [
       "(40824, 8556)"
      ]
     },
     "execution_count": 44,
     "metadata": {},
     "output_type": "execute_result"
    }
   ],
   "source": [
    "vectorizer = CountVectorizer(decode_error='ignore')\n",
    "total_features_words = vectorizer.fit_transform(sentence)\n",
    "total_features_words.shape\n",
    "# 7042 -> Training instances\n",
    "# 21954 -> Total words\n"
   ]
  },
  {
   "cell_type": "markdown",
   "metadata": {},
   "source": [
    "Need to trim the vocab size. Filter by IDF value?"
   ]
  },
  {
   "cell_type": "code",
   "execution_count": 45,
   "metadata": {},
   "outputs": [
    {
     "name": "stdout",
     "output_type": "stream",
     "text": [
      "(40824, 8489)\n",
      "2.1573280926375116 11.617025422743808\n"
     ]
    },
    {
     "name": "stderr",
     "output_type": "stream",
     "text": [
      "/Users/rchaks/opt/anaconda3/envs/aml-proj/lib/python3.9/site-packages/sklearn/utils/deprecation.py:87: FutureWarning: Function get_feature_names is deprecated; get_feature_names is deprecated in 1.0 and will be removed in 1.2. Please use get_feature_names_out instead.\n",
      "  warnings.warn(msg, category=FutureWarning)\n"
     ]
    },
    {
     "data": {
      "text/plain": [
       "you            2.157328\n",
       "the            2.761505\n",
       "me             2.898852\n",
       "to             2.982938\n",
       "and            3.214794\n",
       "                ...    \n",
       "cullens       11.617025\n",
       "cuh           11.617025\n",
       "pained        11.617025\n",
       "cuello        11.617025\n",
       "zzzzingggg    11.617025\n",
       "Length: 8489, dtype: float64"
      ]
     },
     "execution_count": 45,
     "metadata": {},
     "output_type": "execute_result"
    }
   ],
   "source": [
    "vectorizer = TfidfVectorizer(decode_error='ignore'\n",
    "                            # ,ngram_range = (1,2)\n",
    "                            ,use_idf = True\n",
    "                            ,strip_accents = 'ascii'\n",
    "                            ,smooth_idf = False\n",
    "                            )\n",
    "song_vectors = vectorizer.fit_transform(sentence)\n",
    "print(song_vectors.shape)\n",
    "# 7042 -> Training instances\n",
    "# 21954 -> Total words\n",
    "print(min(vectorizer.idf_), max(vectorizer.idf_))\n",
    "idf_vocab = pd.Series(vectorizer.idf_, index= vectorizer.get_feature_names())\n",
    "idf_vocab.sort_values()\n"
   ]
  },
  {
   "cell_type": "code",
   "execution_count": 46,
   "metadata": {},
   "outputs": [
    {
     "data": {
      "text/plain": [
       "Text(0.5, 1.0, 'Word Distribution')"
      ]
     },
     "execution_count": 46,
     "metadata": {},
     "output_type": "execute_result"
    },
    {
     "data": {
      "image/png": "[encoded data removed]",
      "text/plain": [
       "<Figure size 1440x720 with 1 Axes>"
      ]
     },
     "metadata": {
      "needs_background": "light"
     },
     "output_type": "display_data"
    }
   ],
   "source": [
    "plt.figure(figsize = (20,10))\n",
    "plt.hist(vectorizer._tfidf.idf_)\n",
    "plt.xlabel(\"IDF Score\")\n",
    "plt.ylabel(\"Count\")\n",
    "plt.title(\"Word Distribution\", fontsize = 20)\n",
    "        "
   ]
  },
  {
   "cell_type": "code",
   "execution_count": 47,
   "metadata": {},
   "outputs": [
    {
     "name": "stdout",
     "output_type": "stream",
     "text": [
      "9.37765663914447 1279\n"
     ]
    },
    {
     "data": {
      "text/plain": [
       "0           abel\n",
       "1          about\n",
       "2          above\n",
       "3         across\n",
       "4            act\n",
       "          ...   \n",
       "1271    yourself\n",
       "1272       youve\n",
       "1273         yum\n",
       "1274       yummy\n",
       "1275        zone\n",
       "Length: 1276, dtype: object"
      ]
     },
     "execution_count": 47,
     "metadata": {},
     "output_type": "execute_result"
    }
   ],
   "source": [
    "# Selecting top 10% most frequently occouring words\n",
    "vocab = idf_vocab[idf_vocab <= idf_vocab.quantile(q = 0.15)]\n",
    "print(idf_vocab.quantile(q = 0.2), len(vocab))\n",
    "\n",
    "vocab = pd.Series([t for t in vocab.index if not t.isnumeric()], dtype=str)\n",
    "vocab"
   ]
  },
  {
   "cell_type": "code",
   "execution_count": 48,
   "metadata": {},
   "outputs": [
    {
     "name": "stdout",
     "output_type": "stream",
     "text": [
      "(40824, 1276)\n",
      "(1276,) ['abel' 'about' 'above' ... 'yum' 'yummy' 'zone']\n",
      "[0 0 0 ... 0 0 0]\n"
     ]
    }
   ],
   "source": [
    "\n",
    "vectorizer = CountVectorizer(decode_error='ignore'\n",
    "                            # ,ngram_range = (1,2)\n",
    "                            ,strip_accents = 'ascii'\n",
    "                            # ,smooth_idf = False\n",
    "                            ,vocabulary = set(vocab)\n",
    "                        )\n",
    "X = vectorizer.fit_transform(sentence)\n",
    "print(X.shape)\n",
    "# 7042 -> Training instances\n",
    "# 21954 -> Total words\n",
    "vocab= vectorizer.get_feature_names_out()\n",
    "print(vocab.shape, vocab)\n",
    "print(X.toarray()[1])"
   ]
  },
  {
   "cell_type": "markdown",
   "metadata": {},
   "source": [
    "https://towardsdatascience.com/pytorch-basics-how-to-train-your-neural-net-intro-to-rnn-cb6ebc594677"
   ]
  },
  {
   "cell_type": "markdown",
   "metadata": {},
   "source": [
    "# RNN"
   ]
  },
  {
   "cell_type": "code",
   "execution_count": 28,
   "metadata": {},
   "outputs": [],
   "source": [
    "import numpy as np\n",
    "\n",
    "import torch\n",
    "import torch.nn as nn\n",
    "import torch.optim as optim\n",
    "from torch.utils.data import Dataset, DataLoader"
   ]
  },
  {
   "cell_type": "code",
   "execution_count": 52,
   "metadata": {},
   "outputs": [
    {
     "data": {
      "text/plain": [
       "<torch.utils.data.dataloader.DataLoader at 0x7fdb5bdb6c70>"
      ]
     },
     "execution_count": 52,
     "metadata": {},
     "output_type": "execute_result"
    }
   ],
   "source": [
    "# Number of features used as input. (Number of columns)\n",
    "INPUT_SIZE = 1\n",
    "# Number of previous time stamps taken into account.\n",
    "SEQ_LENGTH = 5\n",
    "# Number of features in last hidden state ie. number of output time-\n",
    "# steps to predict.See image below for more clarity.\n",
    "HIDDEN_SIZE = 2\n",
    "# Number of stacked rnn layers.\n",
    "NUM_LAYERS = 5\n",
    "# We have total of 20 rows in our input. \n",
    "# We divide the input into 4 batches where each batch has only 1\n",
    "# row. Each row corresponds to a sequence of length 5. \n",
    "BATCH_SIZE = 4\n",
    "\n",
    "num_batches = X.shape[0]//BATCH_SIZE\n",
    "\n",
    "dataloader = DataLoader(X, batch_size= BATCH_SIZE)\n",
    "\n",
    "noise_input_dimension = 516\n",
    "\n",
    "dataloader"
   ]
  },
  {
   "cell_type": "code",
   "execution_count": 43,
   "metadata": {},
   "outputs": [
    {
     "ename": "RuntimeError",
     "evalue": "shape '[4, 5, 1]' is invalid for input of size 1276",
     "output_type": "error",
     "traceback": [
      "\u001b[0;31m---------------------------------------------------------------------------\u001b[0m",
      "\u001b[0;31mRuntimeError\u001b[0m                              Traceback (most recent call last)",
      "\u001b[0;32m/var/folders/y3/v6fyb_rs72bcn7ftc3lvwvmw0000gn/T/ipykernel_9151/198200145.py\u001b[0m in \u001b[0;36m<module>\u001b[0;34m\u001b[0m\n\u001b[1;32m      2\u001b[0m \u001b[0mrnn\u001b[0m \u001b[0;34m=\u001b[0m \u001b[0mnn\u001b[0m\u001b[0;34m.\u001b[0m\u001b[0mRNN\u001b[0m\u001b[0;34m(\u001b[0m\u001b[0minput_size\u001b[0m\u001b[0;34m=\u001b[0m\u001b[0mINPUT_SIZE\u001b[0m\u001b[0;34m,\u001b[0m \u001b[0mhidden_size\u001b[0m\u001b[0;34m=\u001b[0m\u001b[0mHIDDEN_SIZE\u001b[0m\u001b[0;34m,\u001b[0m \u001b[0mnum_layers\u001b[0m \u001b[0;34m=\u001b[0m \u001b[0;36m1\u001b[0m\u001b[0;34m,\u001b[0m \u001b[0mbatch_first\u001b[0m\u001b[0;34m=\u001b[0m\u001b[0;32mTrue\u001b[0m\u001b[0;34m)\u001b[0m\u001b[0;34m\u001b[0m\u001b[0;34m\u001b[0m\u001b[0m\n\u001b[1;32m      3\u001b[0m \u001b[0;31m# input size : (batch, seq_len, input_size)\u001b[0m\u001b[0;34m\u001b[0m\u001b[0;34m\u001b[0m\u001b[0m\n\u001b[0;32m----> 4\u001b[0;31m \u001b[0minputs\u001b[0m \u001b[0;34m=\u001b[0m \u001b[0mX\u001b[0m\u001b[0;34m[\u001b[0m\u001b[0;36m0\u001b[0m\u001b[0;34m]\u001b[0m\u001b[0;34m.\u001b[0m\u001b[0mview\u001b[0m\u001b[0;34m(\u001b[0m\u001b[0mBATCH_SIZE\u001b[0m\u001b[0;34m,\u001b[0m \u001b[0mSEQ_LENGTH\u001b[0m\u001b[0;34m,\u001b[0m \u001b[0mINPUT_SIZE\u001b[0m\u001b[0;34m)\u001b[0m\u001b[0;34m\u001b[0m\u001b[0;34m\u001b[0m\u001b[0m\n\u001b[0m\u001b[1;32m      5\u001b[0m \u001b[0;31m# out shape = (batch, seq_len, num_directions * hidden_size)\u001b[0m\u001b[0;34m\u001b[0m\u001b[0;34m\u001b[0m\u001b[0m\n\u001b[1;32m      6\u001b[0m \u001b[0;31m# h_n shape  = (num_layers * num_directions, batch, hidden_size)\u001b[0m\u001b[0;34m\u001b[0m\u001b[0;34m\u001b[0m\u001b[0m\n",
      "\u001b[0;31mRuntimeError\u001b[0m: shape '[4, 5, 1]' is invalid for input of size 1276"
     ]
    }
   ],
   "source": [
    "# Initialize the RNN.\n",
    "rnn = nn.RNN(input_size=INPUT_SIZE, hidden_size=HIDDEN_SIZE, num_layers = 1, batch_first=True)\n",
    "# input size : (batch, seq_len, input_size)\n",
    "inputs = X[0].view(BATCH_SIZE, SEQ_LENGTH, INPUT_SIZE)\n",
    "# out shape = (batch, seq_len, num_directions * hidden_size)\n",
    "# h_n shape  = (num_layers * num_directions, batch, hidden_size)\n",
    "out, h_n = rnn(inputs)"
   ]
  },
  {
   "cell_type": "code",
   "execution_count": null,
   "metadata": {},
   "outputs": [],
   "source": []
  }
 ],
 "metadata": {
  "interpreter": {
   "hash": "9de5165c937a2b35058362d46df331dd31555248ff77b80de32d4bef5809b318"
  },
  "kernelspec": {
   "display_name": "Python 3.9.7 64-bit ('aml-proj': conda)",
   "language": "python",
   "name": "python3"
  },
  "language_info": {
   "codemirror_mode": {
    "name": "ipython",
    "version": 3
   },
   "file_extension": ".py",
   "mimetype": "text/x-python",
   "name": "python",
   "nbconvert_exporter": "python",
   "pygments_lexer": "ipython3",
   "version": "3.9.7"
  },
  "orig_nbformat": 4
 },
 "nbformat": 4,
 "nbformat_minor": 2
}
